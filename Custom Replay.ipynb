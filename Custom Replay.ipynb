{
 "cells": [
  {
   "cell_type": "code",
   "execution_count": 1,
   "metadata": {},
   "outputs": [],
   "source": [
    "# отключаем предупреждения\n",
    "import warnings\n",
    "warnings.filterwarnings(\"ignore\")\n",
    "\n",
    "# импорт библиотек для анализа\n",
    "import pandas as pd\n",
    "import os\n",
    "import datetime\n",
    "import numpy as np\n",
    "\n",
    "# импортируем все библиотеки для работы с pm4py\n",
    "import pm4py\n",
    "from pm4py.objects.conversion.log import factory as log_conv\n",
    "from pm4py.algo.discovery.dfg import algorithm as dfg_discovery\n",
    "from pm4py.algo.filtering.pandas.start_activities import start_activities_filter\n",
    "from pm4py.algo.filtering.pandas.end_activities import end_activities_filter\n",
    "from pm4py.algo.filtering.log.variants import variants_filter\n",
    "from pm4py.statistics.traces.pandas import case_statistics\n",
    "\n",
    "# для работы с графами\n",
    "import graphviz\n",
    "from graphviz import Digraph"
   ]
  },
  {
   "cell_type": "code",
   "execution_count": 2,
   "metadata": {},
   "outputs": [],
   "source": [
    "# путь до graphviz executables\n",
    "os.environ[\"PATH\"] += os.pathsep + 'C:/Program Files (x86)/Graphviz2.38/bin/'"
   ]
  },
  {
   "cell_type": "markdown",
   "metadata": {},
   "source": [
    "# Replay"
   ]
  },
  {
   "cell_type": "markdown",
   "metadata": {},
   "source": [
    "> Подгружаем эталонные логи: тут представлено два процесса, которые мы будем считать эталонными."
   ]
  },
  {
   "cell_type": "code",
   "execution_count": 3,
   "metadata": {},
   "outputs": [],
   "source": [
    "etalon = pd.read_excel('\\data_custom_replay\\etalon.xlsx')"
   ]
  },
  {
   "cell_type": "code",
   "execution_count": 4,
   "metadata": {},
   "outputs": [
    {
     "data": {
      "text/html": [
       "<div>\n",
       "<style scoped>\n",
       "    .dataframe tbody tr th:only-of-type {\n",
       "        vertical-align: middle;\n",
       "    }\n",
       "\n",
       "    .dataframe tbody tr th {\n",
       "        vertical-align: top;\n",
       "    }\n",
       "\n",
       "    .dataframe thead th {\n",
       "        text-align: right;\n",
       "    }\n",
       "</style>\n",
       "<table border=\"1\" class=\"dataframe\">\n",
       "  <thead>\n",
       "    <tr style=\"text-align: right;\">\n",
       "      <th></th>\n",
       "      <th>case:concept:name</th>\n",
       "      <th>time:timestamp</th>\n",
       "      <th>concept:name</th>\n",
       "    </tr>\n",
       "  </thead>\n",
       "  <tbody>\n",
       "    <tr>\n",
       "      <th>0</th>\n",
       "      <td>urs_1</td>\n",
       "      <td>2018-10-11 23:00:00</td>\n",
       "      <td>action 1</td>\n",
       "    </tr>\n",
       "    <tr>\n",
       "      <th>1</th>\n",
       "      <td>urs_1</td>\n",
       "      <td>2018-10-12 23:00:00</td>\n",
       "      <td>action 2</td>\n",
       "    </tr>\n",
       "    <tr>\n",
       "      <th>2</th>\n",
       "      <td>urs_1</td>\n",
       "      <td>2018-10-13 23:00:00</td>\n",
       "      <td>action 3</td>\n",
       "    </tr>\n",
       "    <tr>\n",
       "      <th>3</th>\n",
       "      <td>urs_1</td>\n",
       "      <td>2018-10-14 23:00:00</td>\n",
       "      <td>action 5</td>\n",
       "    </tr>\n",
       "    <tr>\n",
       "      <th>4</th>\n",
       "      <td>usr_2</td>\n",
       "      <td>2018-10-15 23:00:00</td>\n",
       "      <td>action 1</td>\n",
       "    </tr>\n",
       "    <tr>\n",
       "      <th>5</th>\n",
       "      <td>usr_2</td>\n",
       "      <td>2018-10-16 23:00:00</td>\n",
       "      <td>action 2</td>\n",
       "    </tr>\n",
       "    <tr>\n",
       "      <th>6</th>\n",
       "      <td>usr_2</td>\n",
       "      <td>2018-10-17 23:00:00</td>\n",
       "      <td>action 4</td>\n",
       "    </tr>\n",
       "    <tr>\n",
       "      <th>7</th>\n",
       "      <td>usr_2</td>\n",
       "      <td>2018-10-18 23:00:00</td>\n",
       "      <td>action 5</td>\n",
       "    </tr>\n",
       "  </tbody>\n",
       "</table>\n",
       "</div>"
      ],
      "text/plain": [
       "  case:concept:name      time:timestamp concept:name\n",
       "0             urs_1 2018-10-11 23:00:00     action 1\n",
       "1             urs_1 2018-10-12 23:00:00     action 2\n",
       "2             urs_1 2018-10-13 23:00:00     action 3\n",
       "3             urs_1 2018-10-14 23:00:00     action 5\n",
       "4             usr_2 2018-10-15 23:00:00     action 1\n",
       "5             usr_2 2018-10-16 23:00:00     action 2\n",
       "6             usr_2 2018-10-17 23:00:00     action 4\n",
       "7             usr_2 2018-10-18 23:00:00     action 5"
      ]
     },
     "execution_count": 4,
     "metadata": {},
     "output_type": "execute_result"
    }
   ],
   "source": [
    "etalon"
   ]
  },
  {
   "cell_type": "code",
   "execution_count": 5,
   "metadata": {},
   "outputs": [],
   "source": [
    "# приведение времени:\n",
    "etalon['time:timestamp'] = pd.to_datetime(etalon['time:timestamp'])\n",
    "etalon['time:timestamp'] = etalon['time:timestamp'].astype(np.int64)//10**9\n",
    "etalon['time:timestamp'] = etalon['time:timestamp'].astype(np.int)"
   ]
  },
  {
   "cell_type": "code",
   "execution_count": 6,
   "metadata": {},
   "outputs": [],
   "source": [
    "# конвертация в лог и DFG\n",
    "log_et = log_conv.apply(etalon)\n",
    "dfg_et = dfg_discovery.apply(log_et)"
   ]
  },
  {
   "cell_type": "code",
   "execution_count": 7,
   "metadata": {},
   "outputs": [],
   "source": [
    "# смотрим вариации представленные в эталонном логе\n",
    "variants_et = variants_filter.get_variants(log_et)"
   ]
  },
  {
   "cell_type": "code",
   "execution_count": 8,
   "metadata": {},
   "outputs": [
    {
     "data": {
      "text/plain": [
       "Index(['action 1,action 2,action 3,action 5', 'action 1,action 2,action 4,action 5'], dtype='object')"
      ]
     },
     "execution_count": 8,
     "metadata": {},
     "output_type": "execute_result"
    }
   ],
   "source": [
    "pd.DataFrame(variants_et).columns"
   ]
  },
  {
   "cell_type": "markdown",
   "metadata": {},
   "source": [
    "> Теперь подгружаем синтезированные реальные логи"
   ]
  },
  {
   "cell_type": "code",
   "execution_count": 9,
   "metadata": {},
   "outputs": [],
   "source": [
    "dfr=pd.read_excel('\\data_custom_replay\\logs.xlsx')"
   ]
  },
  {
   "cell_type": "code",
   "execution_count": 10,
   "metadata": {},
   "outputs": [
    {
     "data": {
      "text/html": [
       "<div>\n",
       "<style scoped>\n",
       "    .dataframe tbody tr th:only-of-type {\n",
       "        vertical-align: middle;\n",
       "    }\n",
       "\n",
       "    .dataframe tbody tr th {\n",
       "        vertical-align: top;\n",
       "    }\n",
       "\n",
       "    .dataframe thead th {\n",
       "        text-align: right;\n",
       "    }\n",
       "</style>\n",
       "<table border=\"1\" class=\"dataframe\">\n",
       "  <thead>\n",
       "    <tr style=\"text-align: right;\">\n",
       "      <th></th>\n",
       "      <th>case:concept:name</th>\n",
       "      <th>time:timestamp</th>\n",
       "      <th>concept:name</th>\n",
       "    </tr>\n",
       "  </thead>\n",
       "  <tbody>\n",
       "    <tr>\n",
       "      <th>0</th>\n",
       "      <td>urs_3</td>\n",
       "      <td>2018-10-11 23:00:00</td>\n",
       "      <td>action 1</td>\n",
       "    </tr>\n",
       "    <tr>\n",
       "      <th>1</th>\n",
       "      <td>urs_3</td>\n",
       "      <td>2018-10-12 23:00:00</td>\n",
       "      <td>action 2</td>\n",
       "    </tr>\n",
       "    <tr>\n",
       "      <th>2</th>\n",
       "      <td>urs_3</td>\n",
       "      <td>2018-10-13 23:00:00</td>\n",
       "      <td>action 4</td>\n",
       "    </tr>\n",
       "    <tr>\n",
       "      <th>3</th>\n",
       "      <td>urs_4</td>\n",
       "      <td>2018-10-14 23:00:00</td>\n",
       "      <td>action 1</td>\n",
       "    </tr>\n",
       "    <tr>\n",
       "      <th>4</th>\n",
       "      <td>urs_4</td>\n",
       "      <td>2018-10-15 23:00:00</td>\n",
       "      <td>action 2</td>\n",
       "    </tr>\n",
       "  </tbody>\n",
       "</table>\n",
       "</div>"
      ],
      "text/plain": [
       "  case:concept:name      time:timestamp concept:name\n",
       "0             urs_3 2018-10-11 23:00:00     action 1\n",
       "1             urs_3 2018-10-12 23:00:00     action 2\n",
       "2             urs_3 2018-10-13 23:00:00     action 4\n",
       "3             urs_4 2018-10-14 23:00:00     action 1\n",
       "4             urs_4 2018-10-15 23:00:00     action 2"
      ]
     },
     "execution_count": 10,
     "metadata": {},
     "output_type": "execute_result"
    }
   ],
   "source": [
    "dfr.head()"
   ]
  },
  {
   "cell_type": "code",
   "execution_count": 11,
   "metadata": {},
   "outputs": [],
   "source": [
    "log_block = log_conv.apply(dfr)"
   ]
  },
  {
   "cell_type": "code",
   "execution_count": 12,
   "metadata": {},
   "outputs": [],
   "source": [
    "# варианты прохождений реальных логов\n",
    "variants_count_logs = case_statistics.get_variant_statistics(dfr, parameters={case_statistics.Parameters.CASE_ID_KEY: \"case:concept:name\",\n",
    "                                                      case_statistics.Parameters.ACTIVITY_KEY: \"concept:name\",\n",
    "                                                      case_statistics.Parameters.TIMESTAMP_KEY: \"time:timestamp\"})\n",
    "variants_count_logs = sorted(variants_count_logs, key=lambda x: x['case:concept:name'], reverse=True)"
   ]
  },
  {
   "cell_type": "code",
   "execution_count": 13,
   "metadata": {},
   "outputs": [
    {
     "data": {
      "text/plain": [
       "[{'variant': 'action 1,action 2,action 5', 'case:concept:name': 1},\n",
       " {'variant': 'action 1,action 2,action 4,action 5', 'case:concept:name': 1},\n",
       " {'variant': 'action 1,action 2,action 4', 'case:concept:name': 1},\n",
       " {'variant': 'action 1,action 2,action 3,action 5', 'case:concept:name': 1},\n",
       " {'variant': 'action 1,action 2,action 3', 'case:concept:name': 1}]"
      ]
     },
     "execution_count": 13,
     "metadata": {},
     "output_type": "execute_result"
    }
   ],
   "source": [
    "variants_count_logs"
   ]
  },
  {
   "cell_type": "code",
   "execution_count": 14,
   "metadata": {},
   "outputs": [],
   "source": [
    "# варианты traces эталонного процесса\n",
    "variants_count_e = case_statistics.get_variant_statistics(etalon, parameters={case_statistics.Parameters.CASE_ID_KEY: \"case:concept:name\",\n",
    "                                                      case_statistics.Parameters.ACTIVITY_KEY: \"concept:name\",\n",
    "                                                      case_statistics.Parameters.TIMESTAMP_KEY: \"time:timestamp\"})\n",
    "variants_count_e = sorted(variants_count_e, key=lambda x: x['case:concept:name'], reverse=True)"
   ]
  },
  {
   "cell_type": "code",
   "execution_count": 15,
   "metadata": {},
   "outputs": [
    {
     "data": {
      "text/plain": [
       "[{'variant': 'action 1,action 2,action 4,action 5', 'case:concept:name': 1},\n",
       " {'variant': 'action 1,action 2,action 3,action 5', 'case:concept:name': 1}]"
      ]
     },
     "execution_count": 15,
     "metadata": {},
     "output_type": "execute_result"
    }
   ],
   "source": [
    "variants_count_e"
   ]
  },
  {
   "cell_type": "code",
   "execution_count": 16,
   "metadata": {},
   "outputs": [],
   "source": [
    "# приведение к формату таблиц\n",
    "et_var = pd.DataFrame(variants_count_e)\n",
    "et_var['variant']=et_var['variant'].map(lambda x: x.split(','))\n",
    "\n",
    "variants_logs = pd.DataFrame(variants_count_logs)\n",
    "variants_logs['variant'] = variants_logs['variant'].map(lambda x: x.split(','))"
   ]
  },
  {
   "cell_type": "code",
   "execution_count": 17,
   "metadata": {},
   "outputs": [],
   "source": [
    "rea = variants_logs['variant'].to_list()\n",
    "ide = et_var['variant'].to_list()"
   ]
  },
  {
   "cell_type": "code",
   "execution_count": 18,
   "metadata": {},
   "outputs": [],
   "source": [
    "\"\"\"\n",
    "функция поиска пропущенных токенов, на вход подаются параметры\n",
    ":params: etalon_list - список дейтсвий в эталонном процесса\n",
    ":params: real_list - список действий в реальном логе\n",
    "возвращается список пропущенных токенов\n",
    "\"\"\"\n",
    "def missing_tokens(etalon_list, real_list):\n",
    "    missing = []\n",
    "    for i in range(len(etalon_list)):\n",
    "        if etalon_list[i]!=real_list[i]:\n",
    "            missing.append(etalon_list[i])\n",
    "        else:\n",
    "            pass\n",
    "    return missing"
   ]
  },
  {
   "cell_type": "code",
   "execution_count": 19,
   "metadata": {},
   "outputs": [],
   "source": [
    "\"\"\"\n",
    "функция поиска расхождений, на вход необходимо подать следующие параметры\n",
    "если длина лога отличается от ближайшего эталонного процесса, дополняем нуляеми разницу в длинах\n",
    ":params: real - список реальных traces из логов\n",
    ":params: ideal - список traces из эталонного лога\n",
    "функция возвращает списки расхождений и новые (дополненные нулями) исходные логи\n",
    "\"\"\"\n",
    "def preparation_logs(real, ideal):\n",
    "    global_ = []\n",
    "    for l in range(len(real)):\n",
    "        loc = []\n",
    "        for k in range(len(ideal)):\n",
    "            if len(real[l])==len(ideal[k]):\n",
    "                loc.append(missing_tokens(ideal[k], real[l]))\n",
    "            elif len(real[l])<len(ideal[k]):\n",
    "                dif_len = len(ideal[k])-len(real[l])\n",
    "                for add in range(0,dif_len):\n",
    "                    real[l].append(add)\n",
    "                loc.append(missing_tokens(ideal[k], real[l]))\n",
    "            elif len(real[l])>len(ideal[k]):\n",
    "                m_loc = []\n",
    "                for t in range(len(ideal[k])):\n",
    "                    micro_loc = []\n",
    "                    if ideal[k][t]!=real[l][t]:\n",
    "                        micro_loc.append(ideal[k][t])\n",
    "                    if len(micro_loc)>0:\n",
    "                        m_loc.append(micro_loc)\n",
    "                loc.append(m_loc)\n",
    "        global_.append(loc)\n",
    "    return global_, real, ideal "
   ]
  },
  {
   "cell_type": "code",
   "execution_count": 20,
   "metadata": {},
   "outputs": [],
   "source": [
    "globals_, reals, ideals = preparation_logs(rea, ide)"
   ]
  },
  {
   "cell_type": "code",
   "execution_count": 21,
   "metadata": {},
   "outputs": [],
   "source": [
    "len_list =[]\n",
    "for process in range(len(globals_)):\n",
    "    len_list.append(min(map(len,globals_[process])))"
   ]
  },
  {
   "cell_type": "code",
   "execution_count": 22,
   "metadata": {},
   "outputs": [],
   "source": [
    "def final_deviatinos(global_):\n",
    "    final_ = []\n",
    "    for i in range(len(global_)):\n",
    "        loc_final_list=[]\n",
    "        for j in range(len(global_[i])):\n",
    "            if len(global_[i][j])==len_list[i]:\n",
    "                loc_final_list.append(global_[i][j])\n",
    "        final_.append(loc_final_list)\n",
    "    return final_"
   ]
  },
  {
   "cell_type": "code",
   "execution_count": 23,
   "metadata": {},
   "outputs": [],
   "source": [
    "finals = final_deviatinos(globals_)"
   ]
  },
  {
   "cell_type": "code",
   "execution_count": 24,
   "metadata": {},
   "outputs": [],
   "source": [
    "variants_logs['missing_tokens'] = finals"
   ]
  },
  {
   "cell_type": "code",
   "execution_count": 25,
   "metadata": {},
   "outputs": [],
   "source": [
    "variants_logs['copy_tokens'] = variants_logs['missing_tokens'].map(lambda x: set([j for i in x for j in i]))"
   ]
  },
  {
   "cell_type": "code",
   "execution_count": 26,
   "metadata": {},
   "outputs": [],
   "source": [
    "all_nodes = list(set(dfr['concept:name']))"
   ]
  },
  {
   "cell_type": "code",
   "execution_count": 29,
   "metadata": {},
   "outputs": [],
   "source": [
    "# not declared = missing tokens\n",
    "nd = dict.fromkeys(all_nodes)\n",
    "for i in all_nodes:\n",
    "    t = 0\n",
    "    for line in range(len(variants_logs)):\n",
    "        if i in str(variants_logs['copy_tokens'].iloc[line]):\n",
    "            t+=int(variants_logs['case:concept:name'].iloc[line])\n",
    "    nd[i] =t"
   ]
  },
  {
   "cell_type": "code",
   "execution_count": 30,
   "metadata": {},
   "outputs": [],
   "source": [
    "dfg_replay = dfg_discovery.apply(log_et)"
   ]
  },
  {
   "cell_type": "code",
   "execution_count": 31,
   "metadata": {},
   "outputs": [],
   "source": [
    "# ищем события начала\n",
    "log_start_r = start_activities_filter.get_start_activities(etalon)"
   ]
  },
  {
   "cell_type": "code",
   "execution_count": 32,
   "metadata": {},
   "outputs": [],
   "source": [
    "# ищем события конца\n",
    "end_acitivites_r = end_activities_filter.get_end_activities(etalon)"
   ]
  },
  {
   "cell_type": "code",
   "execution_count": 33,
   "metadata": {},
   "outputs": [],
   "source": [
    "concepts_and_numbers = dfr.groupby(['concept:name'])[['case:concept:name']].count()"
   ]
  },
  {
   "cell_type": "code",
   "execution_count": 34,
   "metadata": {},
   "outputs": [],
   "source": [
    "count_cases = variants_logs['case:concept:name'].sum()"
   ]
  },
  {
   "cell_type": "code",
   "execution_count": 36,
   "metadata": {},
   "outputs": [
    {
     "name": "stdout",
     "output_type": "stream",
     "text": [
      "action 1 ('action 1', 'action 2')\n",
      "action 3 ('action 3', 'action 5')\n",
      "action 2 ('action 2', 'action 3')\n",
      "action 2 ('action 2', 'action 4')\n",
      "action 4 ('action 4', 'action 5')\n"
     ]
    }
   ],
   "source": [
    "# составляем схему связей между нодами\n",
    "schema=pd.DataFrame(columns = ['node1', 'node2'])\n",
    "nodes1=[]\n",
    "nodes2 =[]\n",
    "for t in set(etalon['concept:name'].to_list()):\n",
    "    for j in dfg_replay:\n",
    "        if t in j[0]:\n",
    "            print(t,j)\n",
    "            nodes1.append(j[0])\n",
    "            nodes2.append(j[1])\n",
    "schema['node1']=nodes1\n",
    "schema['node2']=nodes2"
   ]
  },
  {
   "cell_type": "code",
   "execution_count": 37,
   "metadata": {},
   "outputs": [
    {
     "data": {
      "text/html": [
       "<div>\n",
       "<style scoped>\n",
       "    .dataframe tbody tr th:only-of-type {\n",
       "        vertical-align: middle;\n",
       "    }\n",
       "\n",
       "    .dataframe tbody tr th {\n",
       "        vertical-align: top;\n",
       "    }\n",
       "\n",
       "    .dataframe thead th {\n",
       "        text-align: right;\n",
       "    }\n",
       "</style>\n",
       "<table border=\"1\" class=\"dataframe\">\n",
       "  <thead>\n",
       "    <tr style=\"text-align: right;\">\n",
       "      <th></th>\n",
       "      <th>node1</th>\n",
       "      <th>node2</th>\n",
       "    </tr>\n",
       "  </thead>\n",
       "  <tbody>\n",
       "    <tr>\n",
       "      <th>0</th>\n",
       "      <td>action 1</td>\n",
       "      <td>action 2</td>\n",
       "    </tr>\n",
       "    <tr>\n",
       "      <th>1</th>\n",
       "      <td>action 3</td>\n",
       "      <td>action 5</td>\n",
       "    </tr>\n",
       "    <tr>\n",
       "      <th>2</th>\n",
       "      <td>action 2</td>\n",
       "      <td>action 3</td>\n",
       "    </tr>\n",
       "    <tr>\n",
       "      <th>3</th>\n",
       "      <td>action 2</td>\n",
       "      <td>action 4</td>\n",
       "    </tr>\n",
       "    <tr>\n",
       "      <th>4</th>\n",
       "      <td>action 4</td>\n",
       "      <td>action 5</td>\n",
       "    </tr>\n",
       "  </tbody>\n",
       "</table>\n",
       "</div>"
      ],
      "text/plain": [
       "      node1     node2\n",
       "0  action 1  action 2\n",
       "1  action 3  action 5\n",
       "2  action 2  action 3\n",
       "3  action 2  action 4\n",
       "4  action 4  action 5"
      ]
     },
     "execution_count": 37,
     "metadata": {},
     "output_type": "execute_result"
    }
   ],
   "source": [
    "schema"
   ]
  },
  {
   "cell_type": "code",
   "execution_count": 38,
   "metadata": {},
   "outputs": [],
   "source": [
    "or_counter = 0\n",
    "g = Digraph('G', filename = 'replay_DFG.gv')\n",
    "# добавление точки входа\n",
    "g.node('SP', color = 'green')\n",
    "g.node('EP', color = 'orange')\n",
    "\n",
    "for i in set(log_start_r.keys()):\n",
    "    g.attr('node',shape = 'box' )\n",
    "    g.node(str(i),label = str(i)+' (' +str(nd[i])+',' +str(count_cases)+')')\n",
    "    g.edge('SP', i)\n",
    "\n",
    "# теперь добавляются все ноды, которые участвуют в процессе, помимо использованных, как начальные точки\n",
    "for i in set(etalon['concept:name'])-set(log_start_r.keys()):\n",
    "    g.attr('node', shape = 'box' )\n",
    "    g.node(str(i),label = str(i)+' (' +str(nd[i])+','+str(count_cases)+')')\n",
    "\n",
    "\n",
    "for i in range(len(schema)):\n",
    "    g.edge(schema['node1'].iloc[i],schema['node2'].iloc[i])\n",
    "    \n",
    "# связывание точки выхода и конечных событий\n",
    "for i in set(end_acitivites_r.keys()):\n",
    "    g.edge(i,'EP')"
   ]
  },
  {
   "cell_type": "code",
   "execution_count": 40,
   "metadata": {},
   "outputs": [
    {
     "data": {
      "text/plain": [
       "'replay.dot.pdf'"
      ]
     },
     "execution_count": 40,
     "metadata": {},
     "output_type": "execute_result"
    }
   ],
   "source": [
    "# сохранение dot - файла \n",
    "g.render(filename='replay.dot')"
   ]
  },
  {
   "cell_type": "code",
   "execution_count": 41,
   "metadata": {},
   "outputs": [
    {
     "data": {
      "text/plain": [
       "'replay.dot.pdf'"
      ]
     },
     "execution_count": 41,
     "metadata": {},
     "output_type": "execute_result"
    }
   ],
   "source": [
    "# автопросмотр\n",
    "g.view()"
   ]
  },
  {
   "cell_type": "code",
   "execution_count": null,
   "metadata": {},
   "outputs": [],
   "source": []
  }
 ],
 "metadata": {
  "kernelspec": {
   "display_name": "Python 3",
   "language": "python",
   "name": "python3"
  },
  "language_info": {
   "codemirror_mode": {
    "name": "ipython",
    "version": 3
   },
   "file_extension": ".py",
   "mimetype": "text/x-python",
   "name": "python",
   "nbconvert_exporter": "python",
   "pygments_lexer": "ipython3",
   "version": "3.8.3"
  }
 },
 "nbformat": 4,
 "nbformat_minor": 2
}
